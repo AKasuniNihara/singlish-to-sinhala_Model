{
 "cells": [
  {
   "cell_type": "code",
   "execution_count": 1,
   "id": "ea85a248-c0d9-4509-87ac-7698d402c888",
   "metadata": {},
   "outputs": [
    {
     "name": "stdout",
     "output_type": "stream",
     "text": [
      "Accuracy: 0.8475\n",
      "\n",
      "Classification Report:\n",
      "                          precision    recall  f1-score   support\n",
      "\n",
      "             alt.atheism       0.85      0.74      0.79       151\n",
      "           comp.graphics       0.88      0.80      0.84       202\n",
      " comp.os.ms-windows.misc       0.89      0.81      0.85       195\n",
      "comp.sys.ibm.pc.hardware       0.63      0.86      0.72       183\n",
      "   comp.sys.mac.hardware       0.96      0.83      0.89       205\n",
      "          comp.windows.x       0.96      0.82      0.89       215\n",
      "            misc.forsale       0.96      0.62      0.75       193\n",
      "               rec.autos       0.88      0.93      0.90       196\n",
      "         rec.motorcycles       0.89      0.95      0.92       168\n",
      "      rec.sport.baseball       0.96      0.95      0.95       211\n",
      "        rec.sport.hockey       0.91      0.98      0.94       198\n",
      "               sci.crypt       0.80      0.97      0.88       201\n",
      "         sci.electronics       0.92      0.80      0.85       202\n",
      "                 sci.med       0.97      0.90      0.93       194\n",
      "               sci.space       0.89      0.99      0.94       189\n",
      "  soc.religion.christian       0.53      0.99      0.69       202\n",
      "      talk.politics.guns       0.79      0.96      0.87       188\n",
      "   talk.politics.mideast       0.94      0.98      0.96       182\n",
      "      talk.politics.misc       0.99      0.65      0.79       159\n",
      "      talk.religion.misc       1.00      0.18      0.30       136\n",
      "\n",
      "                accuracy                           0.85      3770\n",
      "               macro avg       0.88      0.84      0.83      3770\n",
      "            weighted avg       0.88      0.85      0.84      3770\n",
      "\n"
     ]
    }
   ],
   "source": [
    "from sklearn.datasets import fetch_20newsgroups\n",
    "from sklearn.feature_extraction.text import TfidfVectorizer\n",
    "from sklearn.naive_bayes import MultinomialNB\n",
    "from sklearn.pipeline import make_pipeline\n",
    "from sklearn.model_selection import train_test_split\n",
    "from sklearn import metrics\n",
    "\n",
    "# Load and split data\n",
    "newsgroups = fetch_20newsgroups(subset='all')\n",
    "X, y = newsgroups.data, newsgroups.target\n",
    "X_train, X_test, y_train, y_test = train_test_split(X, y, test_size=0.2, random_state=42)\n",
    "\n",
    "# Build and train model\n",
    "model = make_pipeline(TfidfVectorizer(), MultinomialNB())\n",
    "model.fit(X_train, y_train)\n",
    "\n",
    "# Evaluate model\n",
    "y_pred = model.predict(X_test)\n",
    "accuracy = metrics.accuracy_score(y_test, y_pred)\n",
    "print(f\"Accuracy: {accuracy:.4f}\")\n",
    "print(\"\\nClassification Report:\")\n",
    "print(metrics.classification_report(y_test, y_pred, target_names=newsgroups.target_names))\n"
   ]
  },
  {
   "cell_type": "code",
   "execution_count": null,
   "id": "67642562-b47b-4f86-bbb9-ef3d7279cfdf",
   "metadata": {},
   "outputs": [],
   "source": []
  }
 ],
 "metadata": {
  "kernelspec": {
   "display_name": "Python 3 (ipykernel)",
   "language": "python",
   "name": "python3"
  },
  "language_info": {
   "codemirror_mode": {
    "name": "ipython",
    "version": 3
   },
   "file_extension": ".py",
   "mimetype": "text/x-python",
   "name": "python",
   "nbconvert_exporter": "python",
   "pygments_lexer": "ipython3",
   "version": "3.11.7"
  }
 },
 "nbformat": 4,
 "nbformat_minor": 5
}
